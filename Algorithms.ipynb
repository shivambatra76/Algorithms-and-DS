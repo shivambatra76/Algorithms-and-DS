{
 "cells": [
  {
   "cell_type": "markdown",
   "metadata": {},
   "source": [
    "## Linear Search"
   ]
  },
  {
   "cell_type": "code",
   "execution_count": 2,
   "metadata": {},
   "outputs": [],
   "source": [
    "arr= [3,4,7,8,9,23]\n"
   ]
  },
  {
   "cell_type": "code",
   "execution_count": 19,
   "metadata": {},
   "outputs": [],
   "source": [
    "def linear_search(arr, n):\n",
    "    index = 0\n",
    "    while index<len(arr):\n",
    "        if arr[index]==n:\n",
    "            print(index)\n",
    "            return True\n",
    "        index = index+1\n",
    "    return False"
   ]
  },
  {
   "cell_type": "code",
   "execution_count": 20,
   "metadata": {},
   "outputs": [
    {
     "name": "stdout",
     "output_type": "stream",
     "text": [
      "2\n",
      "Found\n"
     ]
    }
   ],
   "source": [
    "if linear_search(arr, 7):\n",
    "    print(\"Found\")\n",
    "else:\n",
    "    print(\"Not Found\")"
   ]
  },
  {
   "cell_type": "markdown",
   "metadata": {},
   "source": [
    "## Binary Search"
   ]
  },
  {
   "cell_type": "code",
   "execution_count": 43,
   "metadata": {},
   "outputs": [],
   "source": [
    "## Assumptions \n",
    "# 1) Sorted values\n",
    "arr = [1,4,6,7,8,9,11,14,16,19,20]\n",
    "pos=-1\n",
    "def binary_search(arr,n):\n",
    "    \"\"\"faster than linear search\"\"\"\n",
    "    global pos\n",
    "    lower= 0\n",
    "    upper = len(arr)-1 ## no of elements -1 for index\n",
    "    while lower<=upper:\n",
    "        mid = (lower+upper)//2 ## integer division\n",
    "        if arr[mid]==n:\n",
    "            print(\"Found at \", mid)\n",
    "            pos = mid\n",
    "            return True\n",
    "        else:\n",
    "            if arr[mid]<n:\n",
    "                lower = mid + 1\n",
    "            else:\n",
    "                upper = mid -1 \n",
    "    return False"
   ]
  },
  {
   "cell_type": "code",
   "execution_count": 50,
   "metadata": {},
   "outputs": [
    {
     "name": "stdout",
     "output_type": "stream",
     "text": [
      "[1, 4, 6, 7, 8, 9, 11, 14, 16, 19, 20]\n",
      "Not Found\n"
     ]
    }
   ],
   "source": [
    "print(arr)\n",
    "if binary_search(arr, 33):\n",
    "    print(\"Found\")\n",
    "else:\n",
    "    print(\"Not Found\")"
   ]
  },
  {
   "cell_type": "markdown",
   "metadata": {},
   "source": [
    "## Bubble Sort"
   ]
  },
  {
   "cell_type": "code",
   "execution_count": 59,
   "metadata": {},
   "outputs": [],
   "source": [
    "arr = [5,3,8,6,7,2]"
   ]
  },
  {
   "cell_type": "code",
   "execution_count": 62,
   "metadata": {},
   "outputs": [],
   "source": [
    "def bubble_sort(arr):\n",
    "    for i in range(len(arr)-1,0,-1): ## descending order\n",
    "        for j in range(i):\n",
    "            if arr[j]>arr[j+1]:\n",
    "                ## Swapping using Temp variable\n",
    "                temp = arr[j] \n",
    "                arr[j] = arr[j+1]\n",
    "                arr[j+1] = temp \n",
    "            "
   ]
  },
  {
   "cell_type": "code",
   "execution_count": 63,
   "metadata": {},
   "outputs": [],
   "source": [
    "bubble_sort(arr)"
   ]
  },
  {
   "cell_type": "code",
   "execution_count": 64,
   "metadata": {},
   "outputs": [
    {
     "data": {
      "text/plain": [
       "[2, 3, 5, 6, 7, 8]"
      ]
     },
     "execution_count": 64,
     "metadata": {},
     "output_type": "execute_result"
    }
   ],
   "source": [
    "arr"
   ]
  },
  {
   "cell_type": "markdown",
   "metadata": {},
   "source": [
    "## Selection Sort"
   ]
  },
  {
   "cell_type": "code",
   "execution_count": 81,
   "metadata": {},
   "outputs": [],
   "source": [
    "arr = [5,3,8,6,7,2]"
   ]
  },
  {
   "cell_type": "code",
   "execution_count": 82,
   "metadata": {},
   "outputs": [],
   "source": [
    "def selection_sort(arr):\n",
    "    for i in range (5):\n",
    "        min_pos = i \n",
    "        for j in range(i,6):\n",
    "            if arr[j]<arr[min_pos]:\n",
    "                min_pos = j\n",
    "        \n",
    "        \n",
    "        temp = arr[i]\n",
    "        arr[i] = arr[min_pos]\n",
    "        arr[min_pos] = temp\n",
    "        print(arr)"
   ]
  },
  {
   "cell_type": "code",
   "execution_count": 83,
   "metadata": {
    "scrolled": true
   },
   "outputs": [
    {
     "name": "stdout",
     "output_type": "stream",
     "text": [
      "Starting [5, 3, 8, 6, 7, 2]\n",
      "[2, 3, 8, 6, 7, 5]\n",
      "[2, 3, 8, 6, 7, 5]\n",
      "[2, 3, 5, 6, 7, 8]\n",
      "[2, 3, 5, 6, 7, 8]\n",
      "[2, 3, 5, 6, 7, 8]\n"
     ]
    }
   ],
   "source": [
    "print(\"Starting\", arr)\n",
    "selection_sort(arr)"
   ]
  },
  {
   "cell_type": "code",
   "execution_count": null,
   "metadata": {},
   "outputs": [],
   "source": []
  },
  {
   "cell_type": "code",
   "execution_count": null,
   "metadata": {},
   "outputs": [],
   "source": []
  }
 ],
 "metadata": {
  "kernelspec": {
   "display_name": "Python 3",
   "language": "python",
   "name": "python3"
  },
  "language_info": {
   "codemirror_mode": {
    "name": "ipython",
    "version": 3
   },
   "file_extension": ".py",
   "mimetype": "text/x-python",
   "name": "python",
   "nbconvert_exporter": "python",
   "pygments_lexer": "ipython3",
   "version": "3.6.12"
  }
 },
 "nbformat": 4,
 "nbformat_minor": 4
}
