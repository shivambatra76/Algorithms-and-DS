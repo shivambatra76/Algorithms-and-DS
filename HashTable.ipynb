{
 "cells": [
  {
   "cell_type": "markdown",
   "metadata": {},
   "source": [
    "### HashMap\n",
    "- Solved Colission using Array"
   ]
  },
  {
   "cell_type": "code",
   "execution_count": 16,
   "metadata": {},
   "outputs": [],
   "source": [
    "class HashTable:  \n",
    "    def __init__(self):\n",
    "        self.MAX = 10\n",
    "        self.arr = [[] for i in range(self.MAX)]\n",
    "        \n",
    "    def get_hash(self, key):\n",
    "        hash = 0\n",
    "        for char in key:\n",
    "            hash += ord(char)\n",
    "        return hash % self.MAX\n",
    "    \n",
    "    def __getitem__(self, key):\n",
    "        arr_index = self.get_hash(key)\n",
    "        for kv in self.arr[arr_index]:\n",
    "            if kv[0] == key:\n",
    "                return kv[1]\n",
    "            \n",
    "    def __setitem__(self, key, val):\n",
    "        h = self.get_hash(key)\n",
    "        found = False\n",
    "        for idx, element in enumerate(self.arr[h]):\n",
    "            if len(element)==2 and element[0] == key:\n",
    "                print(element)\n",
    "                self.arr[h][idx] = (key,val)\n",
    "                found = True\n",
    "        if not found:\n",
    "            self.arr[h].append((key,val))\n",
    "        \n",
    "    def __delitem__(self, key):\n",
    "        arr_index = self.get_hash(key)\n",
    "        for index, kv in enumerate(self.arr[arr_index]):\n",
    "            if kv[0] == key:\n",
    "                print(\"del\",index)\n",
    "                del self.arr[arr_index][index]"
   ]
  },
  {
   "cell_type": "code",
   "execution_count": 17,
   "metadata": {},
   "outputs": [
    {
     "name": "stdout",
     "output_type": "stream",
     "text": [
      "[[], [], [], [], [], [], [], [], [], []]\n"
     ]
    }
   ],
   "source": [
    "t = HashTable()\n",
    "print(t.arr)\n",
    "# t[\"march 6\"] = 310.\n",
    "# t[\"march 7\"] = 420\n",
    "# t[\"march 8\"] = 67\n",
    "# t[\"march 17\"] = 63457"
   ]
  },
  {
   "cell_type": "code",
   "execution_count": 3,
   "metadata": {},
   "outputs": [
    {
     "data": {
      "text/plain": [
       "310"
      ]
     },
     "execution_count": 3,
     "metadata": {},
     "output_type": "execute_result"
    }
   ],
   "source": [
    "t[\"march 6\"]"
   ]
  },
  {
   "cell_type": "code",
   "execution_count": 4,
   "metadata": {},
   "outputs": [
    {
     "data": {
      "text/plain": [
       "63457"
      ]
     },
     "execution_count": 4,
     "metadata": {},
     "output_type": "execute_result"
    }
   ],
   "source": [
    "t[\"march 17\"]"
   ]
  },
  {
   "cell_type": "code",
   "execution_count": 5,
   "metadata": {},
   "outputs": [
    {
     "data": {
      "text/plain": [
       "[[('march 7', 420)],\n",
       " [('march 8', 67)],\n",
       " [],\n",
       " [],\n",
       " [],\n",
       " [],\n",
       " [],\n",
       " [],\n",
       " [],\n",
       " [('march 6', 310), ('march 17', 63457)]]"
      ]
     },
     "execution_count": 5,
     "metadata": {},
     "output_type": "execute_result"
    }
   ],
   "source": [
    "t.arr"
   ]
  },
  {
   "cell_type": "markdown",
   "metadata": {},
   "source": [
    "### Open Questions "
   ]
  },
  {
   "cell_type": "code",
   "execution_count": 7,
   "metadata": {},
   "outputs": [],
   "source": [
    "# - How to get the value with linear probing in hash table"
   ]
  },
  {
   "cell_type": "markdown",
   "metadata": {},
   "source": [
    "### HashTable\n",
    "- Solved coliision using Linear Probing"
   ]
  },
  {
   "cell_type": "code",
   "execution_count": 135,
   "metadata": {},
   "outputs": [],
   "source": [
    "class HashtableLinear:\n",
    "    def __init__(self):\n",
    "        self.MAX = 10\n",
    "        self.arr = [[] for i in range(self.MAX)]\n",
    "    def get_hash(self, key):\n",
    "        hash = 0\n",
    "        for char in key:\n",
    "            hash += ord(char)\n",
    "        return hash % self.MAX\n",
    "    def __getitem__(self, key):\n",
    "        arr_index = self.get_hash(key)\n",
    "        for kv in self.arr[arr_index]:\n",
    "            if kv[0] == key:\n",
    "                return kv[1]\n",
    "    def __setitem__(self, key, val):\n",
    "        h = self.get_hash(key)\n",
    "        all_ready_exists_with_same_key = False    \n",
    "        for idx, element in enumerate(self.arr[h]):\n",
    "            print(element)\n",
    "            #len(element)==2 means it has a key and a value \n",
    "            #element[0] == key means the key is same as the one stored so it should update it.    \n",
    "            if len(element)==2 and element[0] == key:\n",
    "                print(element)\n",
    "                self.arr[h][idx] = (key,val)\n",
    "                all_ready_exists_with_same_key = True\n",
    "            \n",
    "            if len(element)==2 and element[0]!=key:\n",
    "#                 incase element exists at that memory but new key is given as input init lineear probing\n",
    "                self.initLinearProbing(key, val, h)\n",
    "                return\n",
    "        if not all_ready_exists_with_same_key:\n",
    "            self.arr[h].append((key,val))\n",
    "        print(f'value set {self.arr}')\n",
    "    \n",
    "    def initLinearProbing(self, key, value, h):\n",
    "        print(f'linear probing called args are key:{key} val:{value} h:{h} self.max{self.MAX}')\n",
    "        idx = h\n",
    "        counter = 0\n",
    "        while True:\n",
    "            print(f'{idx}')\n",
    "            print(f'traversing{self.arr[idx]}')\n",
    "            if len(self.arr[idx])==0:\n",
    "                print(f'found empty slot at {idx}')\n",
    "                self.arr[idx] = [(key, value)]\n",
    "                break\n",
    "            if idx==len(self.arr)-1:\n",
    "                idx=0\n",
    "            if counter ==len(self.arr)-1:\n",
    "                break\n",
    "            counter+=1\n",
    "            idx+=1\n",
    "    def __delitem__(self, key):\n",
    "        arr_index = self.get_hash(key)\n",
    "        for index, kv in enumerate(self.arr[arr_index]):\n",
    "            if kv[0] == key:\n",
    "                print(\"del\",index)\n",
    "                del self.arr[arr_index][index]"
   ]
  },
  {
   "cell_type": "code",
   "execution_count": 136,
   "metadata": {},
   "outputs": [],
   "source": [
    "table = HashtableLinear()"
   ]
  },
  {
   "cell_type": "code",
   "execution_count": 137,
   "metadata": {},
   "outputs": [
    {
     "data": {
      "text/plain": [
       "[[], [], [], [], [], [], [], [], [], []]"
      ]
     },
     "execution_count": 137,
     "metadata": {},
     "output_type": "execute_result"
    }
   ],
   "source": [
    "table.arr"
   ]
  },
  {
   "cell_type": "code",
   "execution_count": 138,
   "metadata": {
    "scrolled": true
   },
   "outputs": [
    {
     "name": "stdout",
     "output_type": "stream",
     "text": [
      "value set [[], [], [], [], [], [], [], [], [], [('march 6', 310)]]\n",
      "value set [[('march 7', 420)], [], [], [], [], [], [], [], [], [('march 6', 310)]]\n",
      "value set [[('march 7', 420)], [('march 8', 67)], [], [], [], [], [], [], [], [('march 6', 310)]]\n",
      "('march 6', 310)\n",
      "('march 6', 310)\n",
      "value set [[('march 7', 420)], [('march 8', 67)], [], [], [], [], [], [], [], [('march 6', 888)]]\n",
      "('march 6', 888)\n",
      "linear probing called args are key:march 17 val:63457 h:9 self.max10\n",
      "9\n",
      "traversing[('march 6', 888)]\n",
      "1\n",
      "traversing[('march 8', 67)]\n",
      "2\n",
      "traversing[]\n",
      "found empty slot at 2\n"
     ]
    }
   ],
   "source": [
    "table[\"march 6\"] = 310\n",
    "table[\"march 7\"] = 420\n",
    "table[\"march 8\"] = 67\n",
    "table[\"march 6\"] = 888\n",
    "table[\"march 17\"] = 63457"
   ]
  },
  {
   "cell_type": "code",
   "execution_count": 139,
   "metadata": {},
   "outputs": [
    {
     "data": {
      "text/plain": [
       "[[('march 7', 420)],\n",
       " [('march 8', 67)],\n",
       " [('march 17', 63457)],\n",
       " [],\n",
       " [],\n",
       " [],\n",
       " [],\n",
       " [],\n",
       " [],\n",
       " [('march 6', 888)]]"
      ]
     },
     "execution_count": 139,
     "metadata": {},
     "output_type": "execute_result"
    }
   ],
   "source": [
    "table.arr"
   ]
  },
  {
   "cell_type": "code",
   "execution_count": 143,
   "metadata": {
    "scrolled": true
   },
   "outputs": [
    {
     "name": "stdout",
     "output_type": "stream",
     "text": [
      "('march 17', 63457)\n",
      "linear probing called args are key:march 10 val:90921 h:2 self.max10\n",
      "2\n",
      "traversing[('march 17', 63457)]\n",
      "3\n",
      "traversing[('march 10', 90921)]\n",
      "4\n",
      "traversing[]\n",
      "found empty slot at 4\n",
      "('march 10', 90921)\n",
      "linear probing called args are key:march 11 val:875 h:3 self.max10\n",
      "3\n",
      "traversing[('march 10', 90921)]\n",
      "4\n",
      "traversing[('march 10', 90921)]\n",
      "5\n",
      "traversing[]\n",
      "found empty slot at 5\n"
     ]
    }
   ],
   "source": [
    "table['march 10'] = 90921\n",
    "table['march 11'] = 875"
   ]
  },
  {
   "cell_type": "code",
   "execution_count": 144,
   "metadata": {},
   "outputs": [
    {
     "data": {
      "text/plain": [
       "[[('march 7', 420)],\n",
       " [('march 8', 67)],\n",
       " [('march 17', 63457)],\n",
       " [('march 10', 90921)],\n",
       " [('march 10', 90921)],\n",
       " [('march 11', 875)],\n",
       " [],\n",
       " [],\n",
       " [],\n",
       " [('march 6', 888)]]"
      ]
     },
     "execution_count": 144,
     "metadata": {},
     "output_type": "execute_result"
    }
   ],
   "source": [
    "table.arr"
   ]
  },
  {
   "cell_type": "markdown",
   "metadata": {},
   "source": [
    "### Looping through an array in circular motion"
   ]
  },
  {
   "cell_type": "code",
   "execution_count": 117,
   "metadata": {},
   "outputs": [],
   "source": [
    "sample = [1,2,3,4,5,6,7,8]"
   ]
  },
  {
   "cell_type": "code",
   "execution_count": 119,
   "metadata": {},
   "outputs": [],
   "source": [
    "def circular_loop(sample, start):\n",
    "    counter=0\n",
    "    while True:\n",
    "        print(sample[start])\n",
    "        counter+=1\n",
    "        start+=1\n",
    "        if start==len(sample)-1:\n",
    "            start=0\n",
    "        if counter ==len(sample)-1:\n",
    "            break"
   ]
  },
  {
   "cell_type": "code",
   "execution_count": 120,
   "metadata": {},
   "outputs": [
    {
     "name": "stdout",
     "output_type": "stream",
     "text": [
      "4\n",
      "5\n",
      "6\n",
      "7\n",
      "1\n",
      "2\n",
      "3\n"
     ]
    }
   ],
   "source": [
    "circular_loop(sample,3)"
   ]
  },
  {
   "cell_type": "code",
   "execution_count": null,
   "metadata": {},
   "outputs": [],
   "source": []
  }
 ],
 "metadata": {
  "kernelspec": {
   "display_name": "Python 3",
   "language": "python",
   "name": "python3"
  },
  "language_info": {
   "codemirror_mode": {
    "name": "ipython",
    "version": 3
   },
   "file_extension": ".py",
   "mimetype": "text/x-python",
   "name": "python",
   "nbconvert_exporter": "python",
   "pygments_lexer": "ipython3",
   "version": "3.8.3"
  }
 },
 "nbformat": 4,
 "nbformat_minor": 4
}
